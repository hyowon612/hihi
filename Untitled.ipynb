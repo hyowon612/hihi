{
 "cells": [
  {
   "cell_type": "code",
   "execution_count": 2,
   "metadata": {},
   "outputs": [
    {
     "name": "stdout",
     "output_type": "stream",
     "text": [
      "HelloPython\n"
     ]
    }
   ],
   "source": [
    "greeting = 'Hello'\n",
    "name = 'Python'\n",
    "\n",
    "print(greeting+name)"
   ]
  },
  {
   "cell_type": "code",
   "execution_count": 3,
   "metadata": {},
   "outputs": [
    {
     "name": "stdout",
     "output_type": "stream",
     "text": [
      "Hello Python\n"
     ]
    }
   ],
   "source": [
    "print(f\"{greeting} {name}\")"
   ]
  },
  {
   "cell_type": "code",
   "execution_count": 11,
   "metadata": {},
   "outputs": [
    {
     "name": "stdout",
     "output_type": "stream",
     "text": [
      "일한 시간을 입력하세요: 5\n",
      "5시간에 25달러 벌었습니다.\n",
      "5시간에 28554.000000000004원 벌었습니다.\n"
     ]
    }
   ],
   "source": [
    "wage = 5\n",
    "exchange_rate = 1142.16\n",
    "\n",
    "time=int(input(\"일한 시간을 입력하세요: \"))\n",
    "dollar=time*wage\n",
    "won=dollar*exchange_rate\n",
    "\n",
    "print(f\"{time}시간에 {dollar}달러 벌었습니다.\")\n",
    "print(f\"{time}시간에 {won}원 벌었습니다.\")\n",
    "\n",
    "\n",
    "\n",
    "# (시간) 시간에 (얼마) 달러를 벌었습니다.\n",
    "# (시간) 시간에 (얼마) 원을 벌었습니다.\n",
    "#“{}시간에 {}{} 벌었습니다.”\n"
   ]
  },
  {
   "cell_type": "code",
   "execution_count": 25,
   "metadata": {},
   "outputs": [
    {
     "name": "stdout",
     "output_type": "stream",
     "text": [
      "플레이어1 입력: 주먹\n",
      "플레이어2 입력: 주먹\n",
      "비겼습니다.\n"
     ]
    }
   ],
   "source": [
    "#가위바위보\n",
    "#가위,가위 보,보 주먹,주먹\n",
    "#가위,보 가위,주먹\n",
    "#주먹,가위 주먹,보\n",
    "#보,주먹 보,가위\n",
    "\n",
    "player1=input(\"플레이어1 입력: \")\n",
    "player2=input(\"플레이어2 입력: \")\n",
    "\n",
    "if player1==player2:\n",
    "    print(\"비겼습니다.\")\n",
    "\n",
    "    \n",
    "elif player1==\"가위\":\n",
    "    if player2==\"보\":\n",
    "        print(\"플레이어1이 이겼습니다.\")\n",
    "    else:\n",
    "        print(\"플레이어2가 이겼습니다.\")\n",
    "        \n",
    "elif player1==\"주먹\":\n",
    "    if player2==\"가위\":\n",
    "        print(\"플레이어1이 이겼습니다.\")\n",
    "    else:\n",
    "        print(\"플레이어2가 이겼습니다.\")\n",
    "\n",
    "elif player1==\"보\":\n",
    "    if player2==\"주먹\":\n",
    "        print(\"플레이어1이 이겼습니다.\")\n",
    "    else:\n",
    "        print(\"플레이어2가 이겼습니다.\")\n",
    "        \n",
    "else:\n",
    "    print(\"땡\")\n",
    "\n",
    "        \n",
    "    "
   ]
  },
  {
   "cell_type": "code",
   "execution_count": 27,
   "metadata": {},
   "outputs": [
    {
     "name": "stdout",
     "output_type": "stream",
     "text": [
      "2\n",
      "4\n",
      "6\n",
      "8\n",
      "10\n",
      "12\n",
      "14\n",
      "16\n",
      "18\n",
      "20\n",
      "22\n",
      "24\n",
      "26\n",
      "28\n",
      "30\n",
      "32\n",
      "34\n",
      "36\n",
      "38\n",
      "40\n",
      "42\n",
      "44\n",
      "46\n",
      "48\n",
      "50\n",
      "52\n",
      "54\n",
      "56\n",
      "58\n",
      "60\n",
      "62\n",
      "64\n",
      "66\n",
      "68\n",
      "70\n",
      "72\n",
      "74\n",
      "76\n",
      "78\n",
      "80\n",
      "82\n",
      "84\n",
      "86\n",
      "88\n",
      "90\n",
      "92\n",
      "94\n",
      "96\n",
      "98\n",
      "100\n"
     ]
    }
   ],
   "source": [
    "a=0\n",
    "while a < 100:\n",
    "    a = a+1\n",
    "    if a%2==0:\n",
    "        print(a)"
   ]
  },
  {
   "cell_type": "code",
   "execution_count": 42,
   "metadata": {},
   "outputs": [
    {
     "name": "stdout",
     "output_type": "stream",
     "text": [
      "115\n"
     ]
    }
   ],
   "source": [
    "a=100\n",
    "\n",
    "while a>=100:\n",
    "    a = a+1\n",
    "    if a%23==0:\n",
    "        print(a)\n",
    "        break\n",
    "    "
   ]
  },
  {
   "cell_type": "code",
   "execution_count": 44,
   "metadata": {},
   "outputs": [
    {
     "name": "stdout",
     "output_type": "stream",
     "text": [
      "점수를 입력하세요: 71\n",
      "You get an C.\n"
     ]
    }
   ],
   "source": [
    "raw_grade=int(input(\"점수를 입력하세요: \"))\n",
    "\n",
    "if raw_grade>=90:\n",
    "    final_grade=\"A\"\n",
    "    \n",
    "elif 80<=raw_grade<90:\n",
    "    final_grade=\"B\"\n",
    "    \n",
    "elif 70<=raw_grade<80:\n",
    "    final_grade=\"C\"\n",
    "    \n",
    "elif 60<=raw_grade<70:\n",
    "    final_grade=\"D\"\n",
    "\n",
    "else:\n",
    "    final_grade=\"F\"\n",
    "    \n",
    "if final_grade==\"A\":\n",
    "    print(\"You get an A.\")\n",
    "elif final_grade==\"B\":\n",
    "    print(\"You get an B.\")\n",
    "elif final_grade==\"C\":\n",
    "    print(\"You get an C.\")\n",
    "elif final_grade==\"D\":\n",
    "    print(\"You get an D.\")           \n",
    "else:\n",
    "    print(\"You get an F.\")\n",
    "\n",
    "\n"
   ]
  },
  {
   "cell_type": "code",
   "execution_count": null,
   "metadata": {},
   "outputs": [],
   "source": [
    "a=0\n",
    "while a<100:\n",
    "    a = a+1\n",
    "    if a%8==0:\n",
    "    "
   ]
  },
  {
   "cell_type": "code",
   "execution_count": null,
   "metadata": {},
   "outputs": [],
   "source": []
  },
  {
   "cell_type": "code",
   "execution_count": null,
   "metadata": {},
   "outputs": [],
   "source": []
  },
  {
   "cell_type": "markdown",
   "metadata": {},
   "source": [
    "안녕!"
   ]
  }
 ],
 "metadata": {
  "kernelspec": {
   "display_name": "Python 3",
   "language": "python",
   "name": "python3"
  },
  "language_info": {
   "codemirror_mode": {
    "name": "ipython",
    "version": 3
   },
   "file_extension": ".py",
   "mimetype": "text/x-python",
   "name": "python",
   "nbconvert_exporter": "python",
   "pygments_lexer": "ipython3",
   "version": "3.7.6"
  }
 },
 "nbformat": 4,
 "nbformat_minor": 4
}
